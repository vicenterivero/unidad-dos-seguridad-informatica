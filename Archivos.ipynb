{
 "cells": [
  {
   "cell_type": "code",
   "execution_count": null,
   "id": "5fb318f1",
   "metadata": {},
   "outputs": [],
   "source": [
    "archivo = open(\"hola.txt\",\"r\")\n",
    "resultado = archivo.read()\n",
    "\n",
    "print(resultado)"
   ]
  },
  {
   "cell_type": "code",
   "execution_count": null,
   "id": "6be76ace",
   "metadata": {
    "scrolled": true
   },
   "outputs": [],
   "source": [
    "import pandas as pd\n",
    "df = pd.read_excel(\"NAS.xlsx\")"
   ]
  },
  {
   "cell_type": "code",
   "execution_count": null,
   "id": "9495be47",
   "metadata": {},
   "outputs": [],
   "source": [
    "\n",
    "import PyPDF2\n",
    "\n",
    "pdf_file = open(\"CODE OF ETHIC FOR ENGINEER IDYGS71.pdf\", \"rb\")\n",
    "\n",
    "pdf_reader = PyPDF2.PdfReader(pdf_file)\n",
    "\n",
    "for page in pdf_reader.pages:\n",
    "    text = page.extract_text()\n",
    "    print(text)\n",
    "\n",
    "pdf_file.close()"
   ]
  },
  {
   "cell_type": "code",
   "execution_count": null,
   "id": "deda75ea",
   "metadata": {},
   "outputs": [],
   "source": [
    "!pip install python-docx\n",
    "\n",
    "import docx\n",
    "\n",
    "doc = docx.Document('CODE OF ETHIC FOR ENGINEER.docx')\n",
    "\n",
    "document_text = []\n",
    "\n",
    "for paragraph in doc.paragraphs:\n",
    "    document_text.append(paragraph.text)\n",
    "\n",
    "full_text = '\\n'.join(document_text)\n",
    "\n",
    "print(full_text)\n"
   ]
  },
  {
   "cell_type": "code",
   "execution_count": null,
   "id": "7f371ec0",
   "metadata": {},
   "outputs": [],
   "source": [
    "!pip install pandas\n",
    "\n",
    "import pandas as pd\n",
    "\n",
    "excel_file = 'archivo.xlsx'\n",
    "\n",
    "\n",
    "\n",
    "df = pd.read_excel(excel_file)\n"
   ]
  },
  {
   "cell_type": "code",
   "execution_count": null,
   "id": "e0f04070",
   "metadata": {},
   "outputs": [],
   "source": []
  }
 ],
 "metadata": {
  "kernelspec": {
   "display_name": "Python 3 (ipykernel)",
   "language": "python",
   "name": "python3"
  },
  "language_info": {
   "codemirror_mode": {
    "name": "ipython",
    "version": 3
   },
   "file_extension": ".py",
   "mimetype": "text/x-python",
   "name": "python",
   "nbconvert_exporter": "python",
   "pygments_lexer": "ipython3",
   "version": "3.11.4"
  }
 },
 "nbformat": 4,
 "nbformat_minor": 5
}
