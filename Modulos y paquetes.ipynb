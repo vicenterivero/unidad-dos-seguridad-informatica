{
 "cells": [
  {
   "cell_type": "code",
   "execution_count": 1,
   "id": "5c878137",
   "metadata": {
    "scrolled": false
   },
   "outputs": [],
   "source": [
    "from carpeta import TablaDeMultiplicar\n",
    "from carpeta import Adivina_el_numero\n",
    "from carpeta import calculadora_de_propina"
   ]
  },
  {
   "cell_type": "code",
   "execution_count": null,
   "id": "7738c2a9",
   "metadata": {
    "scrolled": true
   },
   "outputs": [],
   "source": [
    "TablaDeMultiplicar.tablas()"
   ]
  },
  {
   "cell_type": "code",
   "execution_count": null,
   "id": "15f27e84",
   "metadata": {
    "scrolled": false
   },
   "outputs": [],
   "source": [
    "Adivina_el_numero.adivinansa()"
   ]
  },
  {
   "cell_type": "code",
   "execution_count": null,
   "id": "ddab3343",
   "metadata": {
    "scrolled": true
   },
   "outputs": [],
   "source": [
    "calculadora_de_propina.propina()"
   ]
  }
 ],
 "metadata": {
  "kernelspec": {
   "display_name": "Python 3 (ipykernel)",
   "language": "python",
   "name": "python3"
  },
  "language_info": {
   "codemirror_mode": {
    "name": "ipython",
    "version": 3
   },
   "file_extension": ".py",
   "mimetype": "text/x-python",
   "name": "python",
   "nbconvert_exporter": "python",
   "pygments_lexer": "ipython3",
   "version": "3.11.4"
  }
 },
 "nbformat": 4,
 "nbformat_minor": 5
}
