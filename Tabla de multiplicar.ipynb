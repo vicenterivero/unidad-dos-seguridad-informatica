{
 "cells": [
  {
   "cell_type": "code",
   "execution_count": null,
   "id": "ebd6f914",
   "metadata": {},
   "outputs": [],
   "source": [
    "inicio_rango = int(input(\"ingresa el inicio\"))\n",
    "final_rango = int(input(\"ingresa el final\"))\n",
    "inicio_tabla = int(input(\"ingresa el inicio de la tabla\"))\n",
    "final_tabla = int(input(\"ingresa el final de la tabla\"))\n",
    "\n",
    "for i in range(inicio_rango, final_rango + 1):\n",
    "    for j in range(inicio_tabla,final_tabla +1):\n",
    "        resultado = i * j\n",
    "        print(i,\"x\", j,\"=\", resultado)\n",
    "    print()"
   ]
  }
 ],
 "metadata": {
  "kernelspec": {
   "display_name": "Python 3 (ipykernel)",
   "language": "python",
   "name": "python3"
  },
  "language_info": {
   "codemirror_mode": {
    "name": "ipython",
    "version": 3
   },
   "file_extension": ".py",
   "mimetype": "text/x-python",
   "name": "python",
   "nbconvert_exporter": "python",
   "pygments_lexer": "ipython3",
   "version": "3.11.4"
  }
 },
 "nbformat": 4,
 "nbformat_minor": 5
}
