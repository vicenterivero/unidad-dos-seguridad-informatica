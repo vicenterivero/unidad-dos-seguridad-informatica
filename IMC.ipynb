{
 "cells": [
  {
   "cell_type": "code",
   "execution_count": null,
   "id": "d718dd35",
   "metadata": {},
   "outputs": [],
   "source": [
    "# funcion que me determina el IMC, Y QUE ME DIGA\n",
    "#Nivel de peso\n",
    "\n",
    "def Peso_altura():\n",
    "    nombre = int(input (\"ingresa tu nombre \"))\n",
    "    peso = int(input (\"ingresa tu peso \"))\n",
    "    altura = int (input(\"ingresa tu altura \"))\n",
    "    \n",
    "pesos = {\n",
    "    \"nombre\": nombre,\n",
    "    \"peso\": peso,\n",
    "    \"altura\": altura\n",
    "}\n",
    "\n"
   ]
  },
  {
   "cell_type": "code",
   "execution_count": null,
   "id": "aa9432f4",
   "metadata": {},
   "outputs": [],
   "source": [
    "def calcular_imc():\n",
    "    nombre = input(\"Ingrese su nombre: \")\n",
    "\n",
    "    altura = float(input(\"Ingrese su altura: \"))\n",
    "\n",
    "    peso = float(input(\"Ingrese su peso kg: \"))\n",
    "\n",
    "    imc = peso / (altura ** 2)\n",
    "\n",
    "   \n",
    "    if imc < 18.5:\n",
    "        clasificacion = \"Bajo peso\"\n",
    "    elif 18.5 <= imc < 24.9:\n",
    "        clasificacion = \"Peso normal\"\n",
    "    elif 25 <= imc < 29.9:\n",
    "        clasificacion = \"Sobrepeso\"\n",
    "    else:\n",
    "        clasificacion = \"Obesidad\"\n",
    "\n",
    "    print(f\"\\n¡Hola {nombre}!\")\n",
    "    print(f\"Tu Índice de Masa Corporal (IMC) es: {imc:.2f}\")\n",
    "    print(f\"Clasificación de peso: {clasificacion}\")\n",
    "\n",
    "\n",
    "calcular_imc()"
   ]
  }
 ],
 "metadata": {
  "kernelspec": {
   "display_name": "Python 3 (ipykernel)",
   "language": "python",
   "name": "python3"
  },
  "language_info": {
   "codemirror_mode": {
    "name": "ipython",
    "version": 3
   },
   "file_extension": ".py",
   "mimetype": "text/x-python",
   "name": "python",
   "nbconvert_exporter": "python",
   "pygments_lexer": "ipython3",
   "version": "3.11.4"
  }
 },
 "nbformat": 4,
 "nbformat_minor": 5
}
